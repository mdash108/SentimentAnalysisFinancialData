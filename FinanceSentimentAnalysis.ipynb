{
 "cells": [
  {
   "cell_type": "code",
   "execution_count": 20,
   "id": "84b03ec7",
   "metadata": {},
   "outputs": [],
   "source": [
    "# sentiment analysis\n",
    "# 1. get a source for the data, and read it\n",
    "# 2. the source is Kaggle (https://www.kaggle.com/datasets/sbhatti/financial-sentiment-analysis?resource=download)\n",
    "import pandas as pd\n",
    "import numpy as np\n",
    "data = pd.read_csv(\"FinanceSentimentData.csv\")\n",
    "\n",
    "# OVERALL ALGORITHM\n",
    "# 1. convert col1 to a list of sentences, then clean the list of sentences\n",
    "# 2. Use Tokenizer to create vectors of tokens (integers) in place of words\n",
    "# 3. Process the output and make them each a vector of size two (positive and negative)\n",
    "inputData = list(data[:]['Sentence'])\n",
    "\n",
    "# Now clean the inputData: a. replace 's by blank, b. keep only alphabet, c. make lower\n",
    "import re\n",
    "inputData = [re.sub(\"'s \", \" \", sent) for sent in inputData]\n",
    "inputData = [re.sub(\"[^a-zA-Z]\", ' ', sent) for sent in inputData]\n",
    "inputData = [re.sub(\"   \", ' ', sent) for sent in inputData]\n",
    "inputData = [re.sub(\"  \", ' ', sent) for sent in inputData]\n",
    "inputData = [re.sub(\" [a-zA-Z] \", ' ', sent) for sent in inputData]\n",
    "inputData = [sent.lower() for sent in inputData]"
   ]
  },
  {
   "cell_type": "code",
   "execution_count": 22,
   "id": "bfdd87ef",
   "metadata": {},
   "outputs": [],
   "source": [
    "# use Tokenizer to tokenize the sentences\n",
    "from keras.preprocessing.text import Tokenizer\n",
    "tokenizer = Tokenizer()\n",
    "\n",
    "# first thing to do is to fit_on_texts\n",
    "#tokenizer.fit_on_texts(inputData+list(set(list(data['Sentiment']))))\n",
    "tokenizer.fit_on_texts(inputData)\n",
    "\n",
    "# now convert inputData sentences to sequences\n",
    "sequences = tokenizer.texts_to_sequences(pd.Series(inputData))\n",
    "\n",
    "# find the maxLen among all sequences; then pre-pad other sequences accordingly\n",
    "# Make X ready\n",
    "maxLen = max(len(seq) for seq in sequences)\n",
    "from tensorflow.keras.preprocessing.sequence import pad_sequences\n",
    "X = pad_sequences(sequences, maxLen, truncating='pre')\n",
    "\n",
    "# Make y ready: y is created from data['Sentiment']\n",
    "y = np.array(pd.get_dummies(list(data['Sentiment'])))\n",
    "\n",
    "# create train and test sets\n",
    "from sklearn.model_selection import train_test_split\n",
    "X_tr, X_val, y_tr, y_val = train_test_split(X, y, test_size=0.1, random_state=42)"
   ]
  },
  {
   "cell_type": "code",
   "execution_count": 23,
   "id": "ed9a4600",
   "metadata": {},
   "outputs": [
    {
     "name": "stdout",
     "output_type": "stream",
     "text": [
      "Epoch 1/10\n",
      "165/165 [==============================] - 45s 246ms/step - loss: 0.9067 - acc: 0.5823 - val_loss: 0.7949 - val_acc: 0.6496\n",
      "Epoch 2/10\n",
      "165/165 [==============================] - 33s 199ms/step - loss: 0.6037 - acc: 0.7535 - val_loss: 0.6929 - val_acc: 0.6940\n",
      "Epoch 3/10\n",
      "165/165 [==============================] - 32s 197ms/step - loss: 0.3673 - acc: 0.8459 - val_loss: 0.7234 - val_acc: 0.7043\n",
      "Epoch 4/10\n",
      "165/165 [==============================] - 33s 198ms/step - loss: 0.2481 - acc: 0.8794 - val_loss: 0.7848 - val_acc: 0.7060\n",
      "Epoch 5/10\n",
      "165/165 [==============================] - 31s 187ms/step - loss: 0.2125 - acc: 0.8876 - val_loss: 0.9319 - val_acc: 0.6940\n",
      "Epoch 6/10\n",
      "165/165 [==============================] - 31s 190ms/step - loss: 0.1793 - acc: 0.8923 - val_loss: 1.0756 - val_acc: 0.6855\n",
      "Epoch 7/10\n",
      "165/165 [==============================] - 31s 185ms/step - loss: 0.1713 - acc: 0.8979 - val_loss: 1.0202 - val_acc: 0.6855\n",
      "Epoch 8/10\n",
      "165/165 [==============================] - 32s 196ms/step - loss: 0.1596 - acc: 0.9030 - val_loss: 1.1568 - val_acc: 0.7077\n",
      "Epoch 9/10\n",
      "165/165 [==============================] - 37s 226ms/step - loss: 0.1520 - acc: 0.9039 - val_loss: 1.1004 - val_acc: 0.6752\n",
      "Epoch 10/10\n",
      "165/165 [==============================] - 34s 208ms/step - loss: 0.1519 - acc: 0.9047 - val_loss: 1.1955 - val_acc: 0.6872\n"
     ]
    },
    {
     "data": {
      "text/plain": [
       "<keras.callbacks.History at 0x23c4cffba00>"
      ]
     },
     "execution_count": 23,
     "metadata": {},
     "output_type": "execute_result"
    }
   ],
   "source": [
    "# create LSTM model\n",
    "from keras.models import Sequential\n",
    "from keras.layers import Embedding, LSTM, Dense\n",
    "\n",
    "model = Sequential()\n",
    "model.add(Embedding(len(set(tokenizer.word_index.keys()))+1, 60, input_length = maxLen, trainable=True))\n",
    "model.add(LSTM(150, recurrent_dropout=0.1, dropout=0.1, ))\n",
    "model.add(Dense(len(set(list(data['Sentiment']))), 'softmax'))\n",
    "#print(model.summary())\n",
    "\n",
    "# compile and train\n",
    "model.compile(loss='categorical_crossentropy', metrics='acc', optimizer='adam')\n",
    "model.fit(X_tr, y_tr, epochs=10, verbose=1, validation_data=(X_val, y_val))"
   ]
  },
  {
   "cell_type": "code",
   "execution_count": 24,
   "id": "3de842c7",
   "metadata": {},
   "outputs": [
    {
     "name": "stdout",
     "output_type": "stream",
     "text": [
      "1/1 [==============================] - 1s 579ms/step\n"
     ]
    },
    {
     "data": {
      "text/plain": [
       "'negative'"
      ]
     },
     "execution_count": 24,
     "metadata": {},
     "output_type": "execute_result"
    }
   ],
   "source": [
    "# predict\n",
    "seed_text = \"us sanctions put gazprom shell alliance plans in jeopardy\"\n",
    "# first convert it to sequence using texts_to_sequences\n",
    "# 2nd apply pad_sequences\n",
    "# 3rd use model.predict: from the output probabilities find the max, get its index, get its word, print\n",
    "seed_tokens = tokenizer.texts_to_sequences([seed_text])\n",
    "seed_tokens = pad_sequences(seed_tokens, maxLen, truncating='pre')\n",
    "yhat_probs = model.predict(seed_tokens)\n",
    "outputWords = sorted(list(data['Sentiment']))\n",
    "outputWords[np.argmax(yhat_probs)]"
   ]
  },
  {
   "cell_type": "code",
   "execution_count": null,
   "id": "ffe51d86",
   "metadata": {},
   "outputs": [],
   "source": []
  }
 ],
 "metadata": {
  "kernelspec": {
   "display_name": "Python 3 (ipykernel)",
   "language": "python",
   "name": "python3"
  },
  "language_info": {
   "codemirror_mode": {
    "name": "ipython",
    "version": 3
   },
   "file_extension": ".py",
   "mimetype": "text/x-python",
   "name": "python",
   "nbconvert_exporter": "python",
   "pygments_lexer": "ipython3",
   "version": "3.10.9"
  }
 },
 "nbformat": 4,
 "nbformat_minor": 5
}
